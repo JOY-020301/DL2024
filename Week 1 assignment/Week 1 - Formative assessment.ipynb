{
 "cells": [
  {
   "cell_type": "markdown",
   "metadata": {},
   "source": [
    "# Deep Learning\n",
    "## Formative assessment\n",
    "### Week 1: Introduction to Deep Learning"
   ]
  },
  {
   "cell_type": "markdown",
   "metadata": {},
   "source": [
    "#### Instructions\n",
    "\n",
    "In this notebook, you will write code to implement a linear regression model in TensorFlow. You will implement the analytic solution, as well as a low-level training loop to update parameters using gradient descent.\n",
    "\n",
    "Some code cells are provided you in the notebook. You should avoid editing provided code, and make sure to execute the cells in order to avoid unexpected errors. Some cells begin with the line: \n",
    "\n",
    "`#### GRADED CELL ####`\n",
    "\n",
    "These cells require you to write your own code to complete them.\n",
    "\n",
    "#### Let's get started!\n",
    "\n",
    "We'll start by running some imports, and loading the dataset."
   ]
  },
  {
   "cell_type": "code",
   "execution_count": 1,
   "metadata": {},
   "outputs": [],
   "source": [
    "#### PACKAGE IMPORTS ####\n",
    "\n",
    "# Run this cell first to import all required packages. Do not make any imports elsewhere in the notebook\n",
    "\n",
    "import tensorflow as tf\n",
    "import pandas as pd\n",
    "import numpy as np\n",
    "from sklearn.preprocessing import StandardScaler\n",
    "from sklearn.model_selection import train_test_split\n",
    "import matplotlib.pyplot as plt\n",
    "from pathlib import Path\n",
    "\n",
    "# If you would like to make further imports from Tensorflow, add them here\n",
    "\n",
    "\n"
   ]
  },
  {
   "cell_type": "markdown",
   "metadata": {},
   "source": [
    "<img src=\"figures/life_expectancy_wikipedia.png\" title=\"Life expectancy\" style=\"width: 450px;\"/>\n",
    "<center><font style=\"font-size:12px\">source: <a href=https://en.wikipedia.org/wiki/List_of_countries_by_life_expectancy>wikipedia</a></font></center>\n",
    "\n",
    "#### The WHO Life Expectancy dataset\n",
    "In this formative assessment, you will use the [WHO Life Expectancy dataset](https://www.kaggle.com/kumarajarshi/life-expectancy-who) from Kaggle. This dataset was collected from the Global Health Observatory (GHO) data repository under the World Health Organization (WHO), for the purpose of health data analysis. The dataset includes multiple factors affecting life expectancy across 133 countries, divided into the broad categories of immunization related factors, mortality factors, economical factors and social factors.\n",
    "\n",
    "Your goal is to use TensorFlow to model the dataset using linear regression."
   ]
  },
  {
   "cell_type": "markdown",
   "metadata": {},
   "source": [
    "#### Load and subset the data"
   ]
  },
  {
   "cell_type": "code",
   "execution_count": 2,
   "metadata": {
    "scrolled": true
   },
   "outputs": [
    {
     "data": {
      "text/html": [
       "<div>\n",
       "<style scoped>\n",
       "    .dataframe tbody tr th:only-of-type {\n",
       "        vertical-align: middle;\n",
       "    }\n",
       "\n",
       "    .dataframe tbody tr th {\n",
       "        vertical-align: top;\n",
       "    }\n",
       "\n",
       "    .dataframe thead th {\n",
       "        text-align: right;\n",
       "    }\n",
       "</style>\n",
       "<table border=\"1\" class=\"dataframe\">\n",
       "  <thead>\n",
       "    <tr style=\"text-align: right;\">\n",
       "      <th></th>\n",
       "      <th>Year</th>\n",
       "      <th>Life expectancy</th>\n",
       "      <th>Adult Mortality</th>\n",
       "      <th>infant deaths</th>\n",
       "      <th>Alcohol</th>\n",
       "      <th>percentage expenditure</th>\n",
       "      <th>Hepatitis B</th>\n",
       "      <th>Measles</th>\n",
       "      <th>BMI</th>\n",
       "      <th>under-five deaths</th>\n",
       "      <th>Polio</th>\n",
       "      <th>Total expenditure</th>\n",
       "      <th>Diphtheria</th>\n",
       "      <th>HIV/AIDS</th>\n",
       "      <th>GDP</th>\n",
       "      <th>Population</th>\n",
       "      <th>thinness  1-19 years</th>\n",
       "      <th>thinness 5-9 years</th>\n",
       "      <th>Income composition of resources</th>\n",
       "      <th>Schooling</th>\n",
       "    </tr>\n",
       "  </thead>\n",
       "  <tbody>\n",
       "    <tr>\n",
       "      <th>count</th>\n",
       "      <td>2938.000000</td>\n",
       "      <td>2928.000000</td>\n",
       "      <td>2928.000000</td>\n",
       "      <td>2938.000000</td>\n",
       "      <td>2744.000000</td>\n",
       "      <td>2938.000000</td>\n",
       "      <td>2385.000000</td>\n",
       "      <td>2938.000000</td>\n",
       "      <td>2904.000000</td>\n",
       "      <td>2938.000000</td>\n",
       "      <td>2919.000000</td>\n",
       "      <td>2712.00000</td>\n",
       "      <td>2919.000000</td>\n",
       "      <td>2938.000000</td>\n",
       "      <td>2490.000000</td>\n",
       "      <td>2.286000e+03</td>\n",
       "      <td>2904.000000</td>\n",
       "      <td>2904.000000</td>\n",
       "      <td>2771.000000</td>\n",
       "      <td>2775.000000</td>\n",
       "    </tr>\n",
       "    <tr>\n",
       "      <th>mean</th>\n",
       "      <td>2007.518720</td>\n",
       "      <td>69.224932</td>\n",
       "      <td>164.796448</td>\n",
       "      <td>30.303948</td>\n",
       "      <td>4.602861</td>\n",
       "      <td>738.251295</td>\n",
       "      <td>80.940461</td>\n",
       "      <td>2419.592240</td>\n",
       "      <td>38.321247</td>\n",
       "      <td>42.035739</td>\n",
       "      <td>82.550188</td>\n",
       "      <td>5.93819</td>\n",
       "      <td>82.324084</td>\n",
       "      <td>1.742103</td>\n",
       "      <td>7483.158469</td>\n",
       "      <td>1.275338e+07</td>\n",
       "      <td>4.839704</td>\n",
       "      <td>4.870317</td>\n",
       "      <td>0.627551</td>\n",
       "      <td>11.992793</td>\n",
       "    </tr>\n",
       "    <tr>\n",
       "      <th>std</th>\n",
       "      <td>4.613841</td>\n",
       "      <td>9.523867</td>\n",
       "      <td>124.292079</td>\n",
       "      <td>117.926501</td>\n",
       "      <td>4.052413</td>\n",
       "      <td>1987.914858</td>\n",
       "      <td>25.070016</td>\n",
       "      <td>11467.272489</td>\n",
       "      <td>20.044034</td>\n",
       "      <td>160.445548</td>\n",
       "      <td>23.428046</td>\n",
       "      <td>2.49832</td>\n",
       "      <td>23.716912</td>\n",
       "      <td>5.077785</td>\n",
       "      <td>14270.169342</td>\n",
       "      <td>6.101210e+07</td>\n",
       "      <td>4.420195</td>\n",
       "      <td>4.508882</td>\n",
       "      <td>0.210904</td>\n",
       "      <td>3.358920</td>\n",
       "    </tr>\n",
       "    <tr>\n",
       "      <th>min</th>\n",
       "      <td>2000.000000</td>\n",
       "      <td>36.300000</td>\n",
       "      <td>1.000000</td>\n",
       "      <td>0.000000</td>\n",
       "      <td>0.010000</td>\n",
       "      <td>0.000000</td>\n",
       "      <td>1.000000</td>\n",
       "      <td>0.000000</td>\n",
       "      <td>1.000000</td>\n",
       "      <td>0.000000</td>\n",
       "      <td>3.000000</td>\n",
       "      <td>0.37000</td>\n",
       "      <td>2.000000</td>\n",
       "      <td>0.100000</td>\n",
       "      <td>1.681350</td>\n",
       "      <td>3.400000e+01</td>\n",
       "      <td>0.100000</td>\n",
       "      <td>0.100000</td>\n",
       "      <td>0.000000</td>\n",
       "      <td>0.000000</td>\n",
       "    </tr>\n",
       "    <tr>\n",
       "      <th>25%</th>\n",
       "      <td>2004.000000</td>\n",
       "      <td>63.100000</td>\n",
       "      <td>74.000000</td>\n",
       "      <td>0.000000</td>\n",
       "      <td>0.877500</td>\n",
       "      <td>4.685343</td>\n",
       "      <td>77.000000</td>\n",
       "      <td>0.000000</td>\n",
       "      <td>19.300000</td>\n",
       "      <td>0.000000</td>\n",
       "      <td>78.000000</td>\n",
       "      <td>4.26000</td>\n",
       "      <td>78.000000</td>\n",
       "      <td>0.100000</td>\n",
       "      <td>463.935626</td>\n",
       "      <td>1.957932e+05</td>\n",
       "      <td>1.600000</td>\n",
       "      <td>1.500000</td>\n",
       "      <td>0.493000</td>\n",
       "      <td>10.100000</td>\n",
       "    </tr>\n",
       "    <tr>\n",
       "      <th>50%</th>\n",
       "      <td>2008.000000</td>\n",
       "      <td>72.100000</td>\n",
       "      <td>144.000000</td>\n",
       "      <td>3.000000</td>\n",
       "      <td>3.755000</td>\n",
       "      <td>64.912906</td>\n",
       "      <td>92.000000</td>\n",
       "      <td>17.000000</td>\n",
       "      <td>43.500000</td>\n",
       "      <td>4.000000</td>\n",
       "      <td>93.000000</td>\n",
       "      <td>5.75500</td>\n",
       "      <td>93.000000</td>\n",
       "      <td>0.100000</td>\n",
       "      <td>1766.947595</td>\n",
       "      <td>1.386542e+06</td>\n",
       "      <td>3.300000</td>\n",
       "      <td>3.300000</td>\n",
       "      <td>0.677000</td>\n",
       "      <td>12.300000</td>\n",
       "    </tr>\n",
       "    <tr>\n",
       "      <th>75%</th>\n",
       "      <td>2012.000000</td>\n",
       "      <td>75.700000</td>\n",
       "      <td>228.000000</td>\n",
       "      <td>22.000000</td>\n",
       "      <td>7.702500</td>\n",
       "      <td>441.534144</td>\n",
       "      <td>97.000000</td>\n",
       "      <td>360.250000</td>\n",
       "      <td>56.200000</td>\n",
       "      <td>28.000000</td>\n",
       "      <td>97.000000</td>\n",
       "      <td>7.49250</td>\n",
       "      <td>97.000000</td>\n",
       "      <td>0.800000</td>\n",
       "      <td>5910.806335</td>\n",
       "      <td>7.420359e+06</td>\n",
       "      <td>7.200000</td>\n",
       "      <td>7.200000</td>\n",
       "      <td>0.779000</td>\n",
       "      <td>14.300000</td>\n",
       "    </tr>\n",
       "    <tr>\n",
       "      <th>max</th>\n",
       "      <td>2015.000000</td>\n",
       "      <td>89.000000</td>\n",
       "      <td>723.000000</td>\n",
       "      <td>1800.000000</td>\n",
       "      <td>17.870000</td>\n",
       "      <td>19479.911610</td>\n",
       "      <td>99.000000</td>\n",
       "      <td>212183.000000</td>\n",
       "      <td>87.300000</td>\n",
       "      <td>2500.000000</td>\n",
       "      <td>99.000000</td>\n",
       "      <td>17.60000</td>\n",
       "      <td>99.000000</td>\n",
       "      <td>50.600000</td>\n",
       "      <td>119172.741800</td>\n",
       "      <td>1.293859e+09</td>\n",
       "      <td>27.700000</td>\n",
       "      <td>28.600000</td>\n",
       "      <td>0.948000</td>\n",
       "      <td>20.700000</td>\n",
       "    </tr>\n",
       "  </tbody>\n",
       "</table>\n",
       "</div>"
      ],
      "text/plain": [
       "              Year  Life expectancy   Adult Mortality  infant deaths  \\\n",
       "count  2938.000000       2928.000000      2928.000000    2938.000000   \n",
       "mean   2007.518720         69.224932       164.796448      30.303948   \n",
       "std       4.613841          9.523867       124.292079     117.926501   \n",
       "min    2000.000000         36.300000         1.000000       0.000000   \n",
       "25%    2004.000000         63.100000        74.000000       0.000000   \n",
       "50%    2008.000000         72.100000       144.000000       3.000000   \n",
       "75%    2012.000000         75.700000       228.000000      22.000000   \n",
       "max    2015.000000         89.000000       723.000000    1800.000000   \n",
       "\n",
       "           Alcohol  percentage expenditure  Hepatitis B       Measles   \\\n",
       "count  2744.000000             2938.000000  2385.000000    2938.000000   \n",
       "mean      4.602861              738.251295    80.940461    2419.592240   \n",
       "std       4.052413             1987.914858    25.070016   11467.272489   \n",
       "min       0.010000                0.000000     1.000000       0.000000   \n",
       "25%       0.877500                4.685343    77.000000       0.000000   \n",
       "50%       3.755000               64.912906    92.000000      17.000000   \n",
       "75%       7.702500              441.534144    97.000000     360.250000   \n",
       "max      17.870000            19479.911610    99.000000  212183.000000   \n",
       "\n",
       "              BMI   under-five deaths         Polio  Total expenditure  \\\n",
       "count  2904.000000         2938.000000  2919.000000         2712.00000   \n",
       "mean     38.321247           42.035739    82.550188            5.93819   \n",
       "std      20.044034          160.445548    23.428046            2.49832   \n",
       "min       1.000000            0.000000     3.000000            0.37000   \n",
       "25%      19.300000            0.000000    78.000000            4.26000   \n",
       "50%      43.500000            4.000000    93.000000            5.75500   \n",
       "75%      56.200000           28.000000    97.000000            7.49250   \n",
       "max      87.300000         2500.000000    99.000000           17.60000   \n",
       "\n",
       "       Diphtheria      HIV/AIDS            GDP    Population  \\\n",
       "count  2919.000000  2938.000000    2490.000000  2.286000e+03   \n",
       "mean     82.324084     1.742103    7483.158469  1.275338e+07   \n",
       "std      23.716912     5.077785   14270.169342  6.101210e+07   \n",
       "min       2.000000     0.100000       1.681350  3.400000e+01   \n",
       "25%      78.000000     0.100000     463.935626  1.957932e+05   \n",
       "50%      93.000000     0.100000    1766.947595  1.386542e+06   \n",
       "75%      97.000000     0.800000    5910.806335  7.420359e+06   \n",
       "max      99.000000    50.600000  119172.741800  1.293859e+09   \n",
       "\n",
       "        thinness  1-19 years   thinness 5-9 years  \\\n",
       "count            2904.000000          2904.000000   \n",
       "mean                4.839704             4.870317   \n",
       "std                 4.420195             4.508882   \n",
       "min                 0.100000             0.100000   \n",
       "25%                 1.600000             1.500000   \n",
       "50%                 3.300000             3.300000   \n",
       "75%                 7.200000             7.200000   \n",
       "max                27.700000            28.600000   \n",
       "\n",
       "       Income composition of resources    Schooling  \n",
       "count                      2771.000000  2775.000000  \n",
       "mean                          0.627551    11.992793  \n",
       "std                           0.210904     3.358920  \n",
       "min                           0.000000     0.000000  \n",
       "25%                           0.493000    10.100000  \n",
       "50%                           0.677000    12.300000  \n",
       "75%                           0.779000    14.300000  \n",
       "max                           0.948000    20.700000  "
      ]
     },
     "execution_count": 2,
     "metadata": {},
     "output_type": "execute_result"
    }
   ],
   "source": [
    "# Run this cell to load and describe the data\n",
    "\n",
    "df = pd.read_csv(Path(\"./data/Life Expectancy Data.csv\"))\n",
    "df.describe()"
   ]
  },
  {
   "cell_type": "markdown",
   "metadata": {},
   "source": [
    "We will work the following columns from the DataFrame:"
   ]
  },
  {
   "cell_type": "code",
   "execution_count": 3,
   "metadata": {},
   "outputs": [],
   "source": [
    "# This is the list of columns to use from the DataFrame\n",
    "\n",
    "cols = ['Life expectancy ', 'Adult Mortality', 'Alcohol', ' BMI ',\n",
    "        'Polio', 'Total expenditure', 'Diphtheria ', ' HIV/AIDS', \n",
    "        'GDP', 'Income composition of resources', 'Schooling']"
   ]
  },
  {
   "cell_type": "markdown",
   "metadata": {},
   "source": [
    "You should now complete the following function, according to the following specifications:\n",
    "\n",
    "* Extract the columns above from the loaded DataFrame\n",
    "* Remove any rows with `NaN` values\n",
    "* Define a 1-D numpy array using the values in the `Life expectancy ` column. This will be the target variable\n",
    "* Define a 2-D numpy array using the values from all remaining columns. This array should have shape `(num_examples, num_features)`. These will be the input variables\n",
    "* The function should then return the tuple of constant `tf.Tensor` objects `(input_variables, target_variable)` of type `tf.float32`"
   ]
  },
  {
   "cell_type": "code",
   "execution_count": 4,
   "metadata": {},
   "outputs": [],
   "source": [
    "#### GRADED CELL ####\n",
    "\n",
    "# Complete the following function. \n",
    "# Make sure to not change the function name or arguments.\n",
    "\n",
    "def get_inputs_and_targets(dataframe, columns):\n",
    "    \"\"\"\n",
    "    This function takes in the loaded DataFrame and column list as above, and extracts the\n",
    "    numpy arrays as described above.\n",
    "    Your function should return a tuple (input_variables, target_variable) of Tensors.\n",
    "    \"\"\"\n",
    "    # Extract the columns above from the loaded DataFrame & Remove any rows with `NaN` values\n",
    "    df_filtered = dataframe[columns].dropna()\n",
    "    # target variable and make it a Tensor of floats32\n",
    "    target_variable = df_filtered['Life expectancy '].values\n",
    "    target_variable = tf.convert_to_tensor(target_variable, dtype=tf.float32)\n",
    "    # input variables and make it a Tensor of floats32\n",
    "    input_variables = df_filtered.drop(columns=['Life expectancy ']).values\n",
    "    input_variables = tf.convert_to_tensor(input_variables, dtype=tf.float32)\n",
    "    return (input_variables, target_variable)\n",
    "    "
   ]
  },
  {
   "cell_type": "code",
   "execution_count": 5,
   "metadata": {},
   "outputs": [],
   "source": [
    "# Run your function to get the input and target Tensors\n",
    "\n",
    "X, y = get_inputs_and_targets(df, cols)"
   ]
  },
  {
   "cell_type": "code",
   "execution_count": 9,
   "metadata": {},
   "outputs": [],
   "source": [
    "# Split the data into training and test sets and standardise the input scales\n",
    "\n",
    "X_train, X_test, y_train, y_test = train_test_split(X.numpy(), y.numpy(), test_size=0.2)\n",
    "\n",
    "scaler = StandardScaler()\n",
    "X_train = scaler.fit_transform(X_train)\n",
    "X_test = scaler.transform(X_test)\n",
    "\n",
    "X_train, y_train = tf.constant(X_train), tf.constant(y_train)\n",
    "X_test, y_test = tf.constant(X_test), tf.constant(y_test)"
   ]
  },
  {
   "cell_type": "markdown",
   "metadata": {},
   "source": [
    "#### Linear regression model\n",
    "\n",
    "We will fit a simple model of the form\n",
    "\n",
    "$$\n",
    "y = f_\\theta(\\mathbf{x}) + \\epsilon,\n",
    "$$\n",
    "\n",
    "where $y\\in\\mathbb{R}$ is the target variable, $\\mathbf{x}\\in\\mathbb{R}^{10}$ are the input features, $\\theta\\in\\mathbb{R}^{11}$ are the model parameters, $\\epsilon\\sim\\mathcal{N}(0, 1)$ is the observation noise random variable, and $f_\\theta:\\mathbb{R}^{10}\\mapsto\\mathbb{R}$ is given by\n",
    "\n",
    "$$\n",
    "\\begin{align}\n",
    "f_\\theta(\\mathbf{x}) &= \\theta_0 + \\sum_{m=1}^{10} \\theta_m x_m\\\\\n",
    "&= \\sum_{m=0}^{10} \\theta_m x_m.\n",
    "\\end{align}\n",
    "$$\n",
    "\n",
    "In the second line above we have defined $x_0=1$ to be the constant feature. The maximum likelihood solution is given by the normal equation\n",
    "\n",
    "$$\n",
    "\\theta_{ML} = \\left(\\mathbf{X}^T \\mathbf{X}\\right)^{-1}\\mathbf{X}^T\\mathbf{y},\n",
    "$$\n",
    "\n",
    "where $\\mathbf{X}\\in\\mathbb{R}^{N\\times M}$ is the data matrix, $\\mathbf{y}\\in\\mathbb{R}^N$ are the targets, $N$ is the number of data examples, and $M$ are the number of features (including the constant feature).\n",
    "\n",
    "You should now complete the following function to implement the normal equation to compute the maximum likelhood solution. Your code should only use TensorFlow functions. \n",
    "\n",
    "* The arguments to the function are an `inputs` Tensor of shape `(num_examples, num_features)`, and a `targets` Tensor of shape `(num_examples,)`\n",
    "* The function should add a column of ones as the first column to the `inputs` Tensor for the constant feature\n",
    "* The function should output a 1-D Tensor of parameters of length `(num_features + 1,)` (the first entry will be the bias)\n",
    "\n",
    "_Hint: check [the docs](https://www.tensorflow.org/api/stable) for relevant TensorFlow functions, including the_ [`tf.linalg`](https://www.tensorflow.org/api_docs/python/tf/linalg) _module._"
   ]
  },
  {
   "cell_type": "code",
   "execution_count": 16,
   "metadata": {},
   "outputs": [],
   "source": [
    "#### GRADED CELL ####\n",
    "\n",
    "# Complete the following function. \n",
    "# Make sure to not change the function name or arguments.\n",
    "\n",
    "def normal_equation(inputs, targets):\n",
    "    \"\"\"\n",
    "    This function takes in inputs and targets Tensors, and implements the normal equation\n",
    "    as above, only using TensorFlow functions.\n",
    "    Your function should return a Tensor for the maximum likelihood solution for the parameters.\n",
    "    \"\"\"\n",
    "    num_examples, num_features = inputs.shape\n",
    "    # Add a column of ones to the inputs for the bias term\n",
    "    ones = tf.ones((num_examples, 1), dtype=tf.float32)\n",
    "    inputs = tf.concat([ones, inputs], axis=1)\n",
    "    # Calculate the maximum likelihood estimate of the parameters using TensorFlow functions\n",
    "    Xt = tf.transpose(inputs)\n",
    "    XtX = tf.matmul(Xt, inputs)\n",
    "    XtX_inv = tf.linalg.inv(XtX)\n",
    "    XtX_inv_Xt = tf.matmul(XtX_inv, Xt)\n",
    "    w = tf.matmul(XtX_inv_Xt, tf.reshape(targets, (-1, 1)))\n",
    "    return w\n",
    "    \n",
    "    "
   ]
  },
  {
   "cell_type": "code",
   "execution_count": 17,
   "metadata": {},
   "outputs": [
    {
     "name": "stdout",
     "output_type": "stream",
     "text": [
      "MLE weights:\n",
      "tf.Tensor(\n",
      "[[-2.2666159 ]\n",
      " [-0.12114453]\n",
      " [ 0.87337685]\n",
      " [ 0.53025115]\n",
      " [ 0.09370303]\n",
      " [ 0.8198291 ]\n",
      " [-2.7841158 ]\n",
      " [ 0.86577654]\n",
      " [ 1.507921  ]\n",
      " [ 3.050726  ]], shape=(10, 1), dtype=float32)\n",
      "MLE bias:\n",
      "tf.Tensor([69.34616], shape=(1,), dtype=float32)\n"
     ]
    }
   ],
   "source": [
    "# Run your function to compute the ML estimate\n",
    "\n",
    "theta_ml = normal_equation(X_train, y_train)\n",
    "bias_ml, weights_ml = theta_ml[0], theta_ml[1:]\n",
    "print(\"MLE weights:\")\n",
    "print(weights_ml)\n",
    "print(\"MLE bias:\")\n",
    "print(bias_ml)"
   ]
  },
  {
   "cell_type": "markdown",
   "metadata": {},
   "source": [
    "#### Gradient descent\n",
    "\n",
    "You will now implement the (batch) gradient descent algorithm to find the MLE using optimization. To do this, you will make use of the `tf.Variable` class. Recall that a Variable object is a special kind of Tensor that is _mutable_, so we will use it for the model parameters.\n",
    "\n",
    "First, you should complete the following `get_variables` function to create Variable objects for the weights and bias of the linear regression model, as well as an iteration counter Variable.\n",
    "\n",
    "* The function takes `num_features` as an argument\n",
    "* The bias should be a `tf.Variable` with scalar shape, type `tf.float32`, and an initial value of zero. Set the name argument of this Variable to `\"bias\"`\n",
    "* The weights should be a 1-D `tf.Variable` of length `num_features`, type `tf.float32`, and with initial values sampled from a standard normal distribution. Set the name argument of this Variable to `\"weights\"`\n",
    "* Both weights and bias Variables should be trainable\n",
    "* Finally, the function should create a scalar Variable of type `tf.int32`, initialised to zero, with name argument set to `\"iteration\"`. This Variable should be non-trainable\n",
    "* The function should return the tuple of Variables `(weights, bias, iteration)`"
   ]
  },
  {
   "cell_type": "code",
   "execution_count": 18,
   "metadata": {},
   "outputs": [],
   "source": [
    "#### GRADED CELL ####\n",
    "\n",
    "# Complete the following function. \n",
    "# Make sure to not change the function name or arguments.\n",
    "\n",
    "def get_variables(num_features):\n",
    "    \"\"\"\n",
    "    This function takes in the number of features as an argument, and creates tf.Variable objects\n",
    "    for the linear regression model weights and bias, as well as an iteration counter Variable.\n",
    "    Your function should return a tuple of two tf.Variable objects (weights, bias, iteration).\n",
    "    \"\"\"\n",
    "    bias  = tf.Variable(tf.zeros(1), dtype=tf.float32, name='bias')\n",
    "    weights = tf.Variable(tf.random.normal([num_features]), dtype=tf.float32, name='weights')\n",
    "    iteration = tf.Variable(0, dtype=tf.int32, name='iteration', trainable=False)\n",
    "    return (weights, bias, iteration)\n",
    "    \n",
    "    "
   ]
  },
  {
   "cell_type": "code",
   "execution_count": 19,
   "metadata": {},
   "outputs": [],
   "source": [
    "# Run your function to create the Variables\n",
    "\n",
    "weights, bias, iteration = get_variables(num_features=10)"
   ]
  },
  {
   "cell_type": "markdown",
   "metadata": {},
   "source": [
    "Now define the model itself by completing the following function. This function implements $f_\\theta(\\mathbf{x}) = \\theta_0 + \\sum_{m=1}^{10} \\theta_m x_m$ as above.\n",
    "\n",
    "* The function takes an `inputs` Tensor, `weights` and `bias` Variables as input\n",
    "* The `inputs` Tensor could be a batch of inputs of shape `(batch_size, num_features)`, or a single set of inputs of shape `(num_features,)`\n",
    "* The function should return the output Tensor $f_\\theta(\\mathbf{x})$\n",
    "* The output Tensor should have shape `(batch_size,)` (if passed a batch of inputs), or else should be a scalar"
   ]
  },
  {
   "cell_type": "code",
   "execution_count": 22,
   "metadata": {},
   "outputs": [],
   "source": [
    "#### GRADED CELL ####\n",
    "\n",
    "# Complete the following function. \n",
    "# Make sure to not change the function name or arguments.\n",
    "\n",
    "def f(inputs, weights, bias):\n",
    "    \"\"\"\n",
    "    This function takes in an inputs Tensor, weights and bias Variables. It should compute and \n",
    "    return the output Tensor prediction. \n",
    "    \"\"\"\n",
    "    if len(inputs.shape) == 1:\n",
    "        outputs = tf.tensordot(weights, inputs, axes=1) + bias\n",
    "        return tf.squeeze(outputs)\n",
    "    else:\n",
    "        outputs = tf.matmul(inputs, tf.reshape(weights, (-1, 1))) + bias\n",
    "        return tf.squeeze(outputs)\n",
    "        \n",
    "    \n",
    "    "
   ]
  },
  {
   "cell_type": "code",
   "execution_count": 23,
   "metadata": {},
   "outputs": [
    {
     "name": "stdout",
     "output_type": "stream",
     "text": [
      "tf.Tensor([ 0.05147338 -1.1652703  -0.37078822], shape=(3,), dtype=float32)\n",
      "tf.Tensor(3.29632, shape=(), dtype=float32)\n"
     ]
    }
   ],
   "source": [
    "# Test your function on some dummy inputs\n",
    "\n",
    "inputs = tf.random.normal((3, 10), dtype=tf.float32)\n",
    "print(f(inputs, weights, bias))\n",
    "\n",
    "inputs = tf.random.normal((10,), dtype=tf.float32)\n",
    "print(f(inputs, weights, bias))"
   ]
  },
  {
   "cell_type": "markdown",
   "metadata": {},
   "source": [
    "We will need to define the loss function to optimise. As we have assumed Gaussian noise $\\epsilon\\sim\\mathcal{N}(0, 1)$ and we are looking to find the maximum likelihood solution, this will be the mean squared error loss. The loss function that you should implement is therefore:\n",
    "\n",
    "$$\n",
    "{L}_{MSE}(\\theta) = \\frac{1}{M} \\sum_{\\mathbf{x}_i, y_i\\in\\mathcal{D}} (y_i - \\hat{y}_i)^2\n",
    "$$\n",
    "\n",
    "where $\\hat{y}_i = f_\\theta(\\mathbf{x}_i)$, and $(\\mathbf{x}_i, y_i)$ is an example input and output from the training dataset $\\mathcal{D}$. The function specifications are as follows:\n",
    "\n",
    "* The `mse` function takes two Tensors as arguments: `y_true` and `y_pred`\n",
    "* These two Tensors will have shape `(num_examples,)`\n",
    "* The loss function should compute and return the mean squared error loss (MSE) as a scalar Tensor\n",
    "* Use only TensorFlow functions inside your function"
   ]
  },
  {
   "cell_type": "code",
   "execution_count": 24,
   "metadata": {},
   "outputs": [],
   "source": [
    "#### GRADED CELL ####\n",
    "\n",
    "# Complete the following function. \n",
    "# Make sure to not change the function name or arguments.\n",
    "\n",
    "def mse(y_true, y_pred):\n",
    "    \"\"\"\n",
    "    This function takes a batch of 'ground truth' values y_true and a corresponding batch\n",
    "    of model predictions y_pred, and computes the mean squared error.\n",
    "    Your function should return the MSE as a scalar Tensor.\n",
    "    \"\"\"\n",
    "    return tf.reduce_mean(tf.square(y_true - y_pred))\n",
    "    \n",
    "    "
   ]
  },
  {
   "cell_type": "code",
   "execution_count": 25,
   "metadata": {},
   "outputs": [
    {
     "data": {
      "text/plain": [
       "<tf.Tensor: shape=(), dtype=float32, numpy=4929.9644>"
      ]
     },
     "execution_count": 25,
     "metadata": {},
     "output_type": "execute_result"
    }
   ],
   "source": [
    "# Compute the initial loss on the training data\n",
    "\n",
    "mse(y_train, f(X_train, weights, bias))"
   ]
  },
  {
   "cell_type": "code",
   "execution_count": 26,
   "metadata": {},
   "outputs": [
    {
     "name": "stdout",
     "output_type": "stream",
     "text": [
      "MLE train loss: 15.949798583984375\n",
      "MLE test loss: 16.72838592529297\n"
     ]
    }
   ],
   "source": [
    "# Compute the train and test loss of the MLE\n",
    "\n",
    "print(\"MLE train loss: {}\".format(mse(y_train, f(X_train, weights_ml, bias_ml))))\n",
    "print(\"MLE test loss: {}\".format(mse(y_test, f(X_test, weights_ml, bias_ml))))"
   ]
  },
  {
   "cell_type": "markdown",
   "metadata": {},
   "source": [
    "The following function implements the update step of gradient descent, that we will use inside the training loop. Recall this update uses the gradient of the loss with respect to the model parameters to make the update:\n",
    "\n",
    "$$\n",
    "\\theta_{t+1} = \\theta_{t} - \\eta \\nabla_\\theta {L}_{MSE}(\\theta_t),\\qquad t\\in\\mathbb{N}_0,\n",
    "$$\n",
    "\n",
    "where $\\eta>0$ is the learning rate.\n",
    "\n",
    "* The `gradient_descent_update` function takes the following arguments:\n",
    "  * `model_fn` is the function that defines the predictive function (the function `f` above)\n",
    "  * `inputs` and `targets` are the inputs and targets Tensors, of shape `(num_examples, 10)` and `(num_examples,)` respectively\n",
    "  * `w` and `b` are the Variables that represent the model parameters\n",
    "  * The `learning_rate` is the gradient descent hyperparameter\n",
    "* The function should compute the gradient descent update step (assuming the mean squared error loss as above), updating the `w` and `b` Variables accordingly, using the `learning_rate` passed in. It will not return anything; the Variables are updated in-place."
   ]
  },
  {
   "cell_type": "code",
   "execution_count": 27,
   "metadata": {},
   "outputs": [],
   "source": [
    "#### GRADED CELL ####\n",
    "\n",
    "# Complete the following function. \n",
    "# Make sure to not change the function name or arguments.\n",
    "\n",
    "def gradient_descent_update(model_fn, inputs, targets, w, b, learning_rate=0.01):\n",
    "    \"\"\"\n",
    "    This function takes the model function, inputs batch, targets batch, weights Variable,\n",
    "    bias Variable and learning rate as arguments. It should update the Variables w and b\n",
    "    using the SGD update rule above for the MSE loss.\n",
    "    \"\"\"\n",
    "    with tf.GradientTape() as tape:\n",
    "        pred = model_fn(inputs, w, b)\n",
    "        loss = mse(targets, pred)\n",
    "        \n",
    "    gradient = tape.gradient(loss, [w, b])\n",
    "    w.assign_sub(learning_rate * gradient[0])\n",
    "    b.assign_sub(learning_rate * gradient[1])\n",
    "    \n",
    "    \n",
    "    "
   ]
  },
  {
   "cell_type": "code",
   "execution_count": 28,
   "metadata": {},
   "outputs": [
    {
     "name": "stdout",
     "output_type": "stream",
     "text": [
      "Before the update:\n",
      "<tf.Variable 'weights:0' shape=(10,) dtype=float32, numpy=\n",
      "array([ 0.9084831 , -1.270204  , -0.34434298,  1.01382   ,  0.13037972,\n",
      "        0.5659393 ,  1.0910348 , -0.6810066 , -0.21545419,  0.75706124],\n",
      "      dtype=float32)>\n",
      "<tf.Variable 'bias:0' shape=(1,) dtype=float32, numpy=array([0.], dtype=float32)>\n",
      "\n",
      "After the update:\n",
      "<tf.Variable 'weights:0' shape=(10,) dtype=float32, numpy=\n",
      "array([ 0.09977782, -0.785529  ,  0.29080585,  1.378908  ,  0.3073435 ,\n",
      "        0.94631636,  0.38913745, -0.13275373,  0.5570599 ,  1.5422788 ],\n",
      "      dtype=float32)>\n",
      "<tf.Variable 'bias:0' shape=(1,) dtype=float32, numpy=array([6.9346194], dtype=float32)>\n"
     ]
    }
   ],
   "source": [
    "# Test your gradient descent update function\n",
    "\n",
    "print(\"Before the update:\")\n",
    "print(weights)\n",
    "print(bias)\n",
    "gradient_descent_update(f, X_train, y_train, weights, bias, learning_rate=0.05)\n",
    "print(\"\\nAfter the update:\")\n",
    "print(weights)\n",
    "print(bias)"
   ]
  },
  {
   "cell_type": "markdown",
   "metadata": {},
   "source": [
    "You are now ready to write the training loop in the following function. The training loop consists of a pre-defined number of iterations, where one iteration consists of the gradient descent update step which updates the weights and biases according to the gradient descent update rule. \n",
    "\n",
    "You should complete the following `training_loop` function according to the specifications:\n",
    "\n",
    "* The function takes the following arguments:\n",
    "  * `num_iterations`: a positive integer that defines the number of iterations to run the training loop\n",
    "  * `model_fn`: as before, the function that defines the predictive function\n",
    "  * `training_data`: a 2-tuple of Tensors `(inputs, targets)` for the complete training data\n",
    "  * `w`: the Variable that represents the model weights\n",
    "  * `b`: the Variable that represents the model bias\n",
    "  * `iteration`: a Variable used for counting the total number of updates\n",
    "  * `mse`: the loss function to evaluate the model (this will be your `mse` function above)\n",
    "  * `gradient_descent_update`: the function that implements the gradient descent update (this will be your `gradient_descent_update` function above)\n",
    "  * `learning_rate`: the learning rate for the gradient descent update\n",
    "* The function should perform the gradient descent update `num_iterations` times\n",
    "  * For each iterations, the parameters `w` and `b` should be updated according to `gradient_descent_update`, using the `learning_rate` provided\n",
    "  * At each iteration, the `iteration` Variable should be incremented by one\n",
    "* After every update, the model loss should be evaluated on the training data using the `mse` function and appended to a list as a scalar float\n",
    "* The list of losses should then be returned by the function"
   ]
  },
  {
   "cell_type": "code",
   "execution_count": 29,
   "metadata": {},
   "outputs": [],
   "source": [
    "#### GRADED CELL ####\n",
    "\n",
    "# Complete the following function. \n",
    "# Make sure to not change the function name or arguments.\n",
    "\n",
    "def training_loop(num_iterations, model_fn, training_data, w, b, iteration, \n",
    "                  mse=mse, gradient_descent_update=gradient_descent_update, learning_rate=0.01):\n",
    "    \"\"\"\n",
    "    This function executes the training loop according to the specifications above. \n",
    "    It should run for num_iterations, updating the model parameters using the \n",
    "    gradient_descent_update function at every iteration.\n",
    "    The function should return the list of losses computed at each iteration, \n",
    "    using the mse function.\n",
    "    \"\"\"\n",
    "    losses = []\n",
    "    for i in range(num_iterations):\n",
    "        gradient_descent_update(model_fn, training_data[0], training_data[1], w, b, learning_rate)\n",
    "        losses.append(mse(training_data[1], model_fn(training_data[0], w, b)))\n",
    "        iteration.assign_add(1)\n",
    "        \n",
    "    return losses\n",
    "        \n",
    "    \n",
    "    "
   ]
  },
  {
   "cell_type": "code",
   "execution_count": 30,
   "metadata": {},
   "outputs": [],
   "source": [
    "# Re-initialise the model parameters and run the training loop\n",
    "\n",
    "weights, bias, iteration = get_variables(num_features=10)\n",
    "losses = training_loop(1000, f, (X_train, y_train), weights, bias, iteration=iteration, \n",
    "                       mse=mse, gradient_descent_update=gradient_descent_update, learning_rate=0.01)"
   ]
  },
  {
   "cell_type": "code",
   "execution_count": 31,
   "metadata": {},
   "outputs": [
    {
     "data": {
      "image/png": "[encoded data removed]",
      "text/plain": [
       "<Figure size 640x480 with 1 Axes>"
      ]
     },
     "metadata": {},
     "output_type": "display_data"
    }
   ],
   "source": [
    "# Plot the losses\n",
    "\n",
    "plt.plot(losses)\n",
    "plt.title(\"Loss vs iterations\")\n",
    "plt.xlabel(\"Iterations\")\n",
    "plt.ylabel(\"MSE loss\")\n",
    "plt.show()"
   ]
  },
  {
   "cell_type": "code",
   "execution_count": 33,
   "metadata": {},
   "outputs": [
    {
     "name": "stdout",
     "output_type": "stream",
     "text": [
      "Model train loss: 15.949798583984375\n",
      "Model test loss: 16.72892951965332\n"
     ]
    }
   ],
   "source": [
    "# Compute the train and test loss of the learned weights\n",
    "\n",
    "print(\"Model train loss: {}\".format(mse(y_train, f(X_train, weights, bias))))\n",
    "print(\"Model test loss: {}\".format(mse(y_test, f(X_test, weights, bias))))"
   ]
  },
  {
   "cell_type": "markdown",
   "metadata": {},
   "source": [
    "Compare your learned weights and bias to the exact solution computed earlier. They should be fairly close:"
   ]
  },
  {
   "cell_type": "code",
   "execution_count": 34,
   "metadata": {},
   "outputs": [
    {
     "name": "stdout",
     "output_type": "stream",
     "text": [
      "Learned weights:\n",
      "[-2.2671604  -0.12080535  0.87353975  0.5304503   0.09364847  0.8197327\n",
      " -2.7837522   0.86574376  1.5080284   3.0500073 ]\n",
      "Learned bias:\n",
      "[69.34601]\n"
     ]
    }
   ],
   "source": [
    "# Print the learned weights and bias\n",
    "\n",
    "print(\"Learned weights:\")\n",
    "print(weights.numpy())\n",
    "print(\"Learned bias:\")\n",
    "print(bias.numpy())"
   ]
  },
  {
   "cell_type": "code",
   "execution_count": 35,
   "metadata": {},
   "outputs": [
    {
     "name": "stdout",
     "output_type": "stream",
     "text": [
      "Exact ML weights:\n",
      "[[-2.2666159 ]\n",
      " [-0.12114453]\n",
      " [ 0.87337685]\n",
      " [ 0.53025115]\n",
      " [ 0.09370303]\n",
      " [ 0.8198291 ]\n",
      " [-2.7841158 ]\n",
      " [ 0.86577654]\n",
      " [ 1.507921  ]\n",
      " [ 3.050726  ]]\n",
      "Exact ML bias:\n",
      "[69.34616]\n"
     ]
    }
   ],
   "source": [
    "# Print the exact weights and bias\n",
    "\n",
    "print(\"Exact ML weights:\")\n",
    "print(weights_ml.numpy())\n",
    "print(\"Exact ML bias:\")\n",
    "print(bias_ml.numpy())"
   ]
  },
  {
   "cell_type": "markdown",
   "metadata": {},
   "source": [
    "Congratulations on completing this week's assignment! You have now implemented the exact linear regression solution in TensorFlow as well as the gradient descent algorithm for approximating the maximum likelihood parameters. "
   ]
  }
 ],
 "metadata": {
  "kernelspec": {
   "display_name": "Python 3 (ipykernel)",
   "language": "python",
   "name": "python3"
  },
  "language_info": {
   "codemirror_mode": {
    "name": "ipython",
    "version": 3
   },
   "file_extension": ".py",
   "mimetype": "text/x-python",
   "name": "python",
   "nbconvert_exporter": "python",
   "pygments_lexer": "ipython3",
   "version": "3.11.5"
  }
 },
 "nbformat": 4,
 "nbformat_minor": 2
}
